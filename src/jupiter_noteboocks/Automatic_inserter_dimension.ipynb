{
 "cells": [
  {
   "cell_type": "code",
   "execution_count": 21,
   "metadata": {},
   "outputs": [],
   "source": [
    "import pandas as pd\n",
    "import os\n",
    "import requests\n",
    "import time"
   ]
  },
  {
   "cell_type": "markdown",
   "metadata": {},
   "source": [
    "Funzione per caricare i/il .csv"
   ]
  },
  {
   "cell_type": "code",
   "execution_count": null,
   "metadata": {},
   "outputs": [],
   "source": [
    "def load_csv_to_pandas(file_path):\n",
    "    \"\"\"\n",
    "    Load a CSV file into a pandas DataFrame.\n",
    "    \n",
    "    Parameters:\n",
    "    file_path (str): Path to the CSV file\n",
    "    \n",
    "    Returns:\n",
    "    pandas.DataFrame: DataFrame containing the CSV data\n",
    "    \"\"\"\n",
    "    try:\n",
    "        # Read the CSV file into a pandas DataFrame\n",
    "        df = pd.read_csv(file_path, dtype='str')\n",
    "        \n",
    "        # Print information about the DataFrame\n",
    "        print(f\"Successfully loaded CSV file: {file_path}\")\n",
    "        print(f\"Shape: {df.shape} (rows, columns)\")\n",
    "        print(\"\\nFirst 5 rows:\")\n",
    "        print(df.head())\n",
    "        \n",
    "        return df\n",
    "    \n",
    "    except FileNotFoundError:\n",
    "        print(f\"Error: File '{file_path}' not found.\")\n",
    "        return None\n",
    "    except pd.errors.EmptyDataError:\n",
    "        print(f\"Error: File '{file_path}' is empty.\")\n",
    "        return None\n",
    "    except Exception as e:\n",
    "        print(f\"Error loading CSV file: {e}\")\n",
    "        return None\n",
    "\n",
    "def process_all_csvs_in_folder(folder_path):\n",
    "    \"\"\"\n",
    "    Process all CSV files in the specified folder.\n",
    "    \n",
    "    Parameters:\n",
    "    folder_path (str): Path to the folder containing CSV files\n",
    "    \n",
    "    Returns:\n",
    "    dict: Dictionary with filenames as keys and DataFrames as values\n",
    "    \"\"\"\n",
    "    # Check if the folder exists\n",
    "    if not os.path.isdir(folder_path):\n",
    "        print(f\"Error: Folder '{folder_path}' not found.\")\n",
    "        return {}\n",
    "    \n",
    "    # Dictionary to store DataFrames\n",
    "    dataframes = {}\n",
    "    \n",
    "    # Loop through all files in the folder\n",
    "    for filename in os.listdir(folder_path):\n",
    "        if filename.endswith('.csv'):\n",
    "            file_path = os.path.join(folder_path, filename)\n",
    "            print(f\"\\nProcessing: {filename}\")\n",
    "            print(\"-\" * 50)\n",
    "            \n",
    "            # Load the CSV file\n",
    "            df = load_csv_to_pandas(file_path)\n",
    "            \n",
    "            # Store the DataFrame in the dictionary\n",
    "            if df is not None:\n",
    "                dataframes[filename] = df\n",
    "    \n",
    "    # Summary\n",
    "    print(\"\\n\" + \"=\" * 50)\n",
    "    print(f\"Processed {len(dataframes)} CSV files from {folder_path}\")\n",
    "    print(\"=\" * 50)\n",
    "    \n",
    "    return dataframes"
   ]
  },
  {
   "cell_type": "code",
   "execution_count": null,
   "metadata": {},
   "outputs": [],
   "source": [
    "if __name__ == \"__main__\":\n",
    "    folder_path = \"\"  # Replace with your folder path\n",
    "    all_dataframes = process_all_csvs_in_folder(folder_path)\n",
    "\n",
    " #how to access individual DataFrames\n",
    "if all_dataframes:\n",
    "    print(\"\\nAccessing individual DataFrames:\")\n",
    "    for filename, df in list(all_dataframes.items())[:1]:  # Show example with first file\n",
    "        print(f\"\\nDataFrame from {filename}:\")\n",
    "        print(f\"Column names: {df.columns.tolist()}\")"
   ]
  },
  {
   "cell_type": "code",
   "execution_count": null,
   "metadata": {},
   "outputs": [],
   "source": [
    "Df=load_csv_to_pandas(\"C:\\\\Users\\\\lenov\\\\Desktop\\\\Progetto industriale\\\\gerarchia luogo.csv\")\n",
    "Df = Df.dropna(axis=1, how='all')\n",
    "display(Df)"
   ]
  },
  {
   "cell_type": "code",
   "execution_count": 30,
   "metadata": {},
   "outputs": [
    {
     "data": {
      "text/plain": [
       "240"
      ]
     },
     "execution_count": 30,
     "metadata": {},
     "output_type": "execute_result"
    }
   ],
   "source": [
    "Df.to_sql(\"gerarchia_luogo\", get_connection_string(), if_exists='replace', index=False)"
   ]
  }
 ],
 "metadata": {
  "kernelspec": {
   "display_name": "Python 3",
   "language": "python",
   "name": "python3"
  },
  "language_info": {
   "codemirror_mode": {
    "name": "ipython",
    "version": 3
   },
   "file_extension": ".py",
   "mimetype": "text/x-python",
   "name": "python",
   "nbconvert_exporter": "python",
   "pygments_lexer": "ipython3",
   "version": "3.12.5"
  }
 },
 "nbformat": 4,
 "nbformat_minor": 2
}
