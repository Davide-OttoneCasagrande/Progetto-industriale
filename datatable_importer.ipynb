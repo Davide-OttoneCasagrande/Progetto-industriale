{
 "cells": [
  {
   "cell_type": "markdown",
   "metadata": {},
   "source": [
    "Library import\n",
    "dotenv"
   ]
  },
  {
   "cell_type": "code",
   "execution_count": 2,
   "metadata": {},
   "outputs": [
    {
     "data": {
      "text/plain": [
       "True"
      ]
     },
     "execution_count": 2,
     "metadata": {},
     "output_type": "execute_result"
    }
   ],
   "source": [
    "import os\n",
    "from dotenv import load_dotenv\n",
    "import requests as rq\n",
    "import pandas as pd\n",
    "import io\n",
    "import json\n",
    "load_dotenv()"
   ]
  },
  {
   "cell_type": "code",
   "execution_count": 5,
   "metadata": {},
   "outputs": [],
   "source": [
    "def load_json_file(file_path):  # Function to load and parse a JSON file in read mode\n",
    "    with open(file_path, 'r') as file:\n",
    "        return json.load(file)  # Parse the JSON content and return the resulting Python data structure\n",
    "\n",
    "\n",
    "def find_title_by_id(dictionaryJason, search_id):  # Function to find a title by its ID if  'dictionaryJason' is a dictionary where keys are IDs and values are titles\n",
    "    return dictionaryJason.get(search_id, None) # Return the value associated with search_id if it exists, otherwise return None\n",
    "\n",
    "\n",
    "def process_string(input_string):   # Function to process a string according to specific rules (sobsitute space with _ and clear the end)\n",
    "    if input_string:     # Check if the input string is not empty or None \n",
    "        processed_string = input_string.replace(' ', '_')   # Replace all spaces with underscores\n",
    "        processed_string = processed_string.split('-')[0]    # Split the string at the first hyphen and take only the first part\n",
    "        \n",
    "        \n",
    "        if processed_string.endswith('_'):  # Remove trailing underscore if present\n",
    "            processed_string = processed_string[:-1]\n",
    "            \n",
    "        return processed_string\n",
    "    return  # Return None if the input string is empty or None\n",
    "\n",
    "def truncate_string(input_string, max_length):  # Function to truncate a string to a maximum length, cutting at the last underscore\n",
    "    \n",
    "    if len(input_string) > max_length:  # Check if the string is longer than the maximum allowed length\n",
    "       \n",
    "        last_underscore_index = input_string.rfind('_', 0, max_length)  # Find the position of the last underscore before the maximum length\n",
    "        \n",
    "        \n",
    "        if last_underscore_index != -1: # If an underscore is found, truncate the string at that position\n",
    "            return input_string[:last_underscore_index]\n",
    "    return input_string # Return the original string if it's not longer than max_length or if no underscore is found before max_length"
   ]
  },
  {
   "cell_type": "markdown",
   "metadata": {},
   "source": [
    "variabili per decidere il dataflow da scaricare e il tipo di file della risposta"
   ]
  },
  {
   "cell_type": "code",
   "execution_count": 7,
   "metadata": {},
   "outputs": [
    {
     "name": "stdout",
     "output_type": "stream",
     "text": [
      "Nessun titolo trovato per l'id None\n",
      "None\n",
      "https://esploradati.istat.it/SDMXWS/rest/data/None/None?None\n"
     ]
    }
   ],
   "source": [
    "datatype = os.getenv('datatype')\n",
    "dataflow = os.getenv('dataflow')\n",
    "filter = os.getenv('filter')\n",
    "timeframe =  os.getenv('timeframe')\n",
    "tableNamePath = 'istat_metadata_extractor\\\\extracted\\\\122_54_metadata\\\\dataflows.json'\n",
    "url = f'https://esploradati.istat.it/SDMXWS/rest/data/{dataflow}/{filter}?{timeframe}'\n",
    "headersCsv = {'Accept':'text/csv'}\n",
    "headersJson = {'Accept':'application/json'}\n",
    "data = load_json_file(tableNamePath)\n",
    "tableString = find_title_by_id(data, dataflow)\n",
    "tempTableName = process_string(tableString)\n",
    "if tempTableName:\n",
    "    if len(tempTableName)<63:\n",
    "        tableName = tempTableName\n",
    "    else:\n",
    "        print(tempTableName)\n",
    "        tableName=truncate_string(tempTableName,55)\n",
    "else:\n",
    "    print(f\"Nessun titolo trovato per l'id {dataflow}\")\n",
    "    tableName = dataflow\n",
    "print(tableName)\n",
    "print(url)"
   ]
  },
  {
   "cell_type": "code",
   "execution_count": null,
   "metadata": {},
   "outputs": [],
   "source": [
    "if datatype == 0:\n",
    "    response = rq.get(url,headers=headersCsv)\n",
    "    if response.status_code == 200:\n",
    "        #print(response.text[:500])  # debug missed Df print\n",
    "        try:\n",
    "            Df = pd.read_csv(io.StringIO(response.text))\n",
    "            #print('from CSV')  #debug esaminare Df\n",
    "            #display(Df)        #debug esaminare Df\n",
    "        except Exception as e:\n",
    "            print(f\"Error parsing CSV: {e}\")\n",
    "    else:\n",
    "        print(f\"Error: Status code {response.status_code}\")\n",
    "        print(response.text)\n",
    "else:\n",
    "    if datatype == 1:\n",
    "        response = rq.get(url,headers=headersJson)\n",
    "        if response.status_code == 200:\n",
    "            try:\n",
    "                Df = pd.json_normalize(response.json())\n",
    "                #print('from JSON') #debug esaminare Df\n",
    "                #display(Df)        #debug esaminare Df\n",
    "            except Exception as e:\n",
    "                print(f\"Error parsing json: {e}\")\n",
    "        else:\n",
    "            print(f\"Error: Status code {response.status_code}\")\n",
    "            print(response.text)\n"
   ]
  },
  {
   "cell_type": "markdown",
   "metadata": {},
   "source": [
    "Drop columns where all values are NaN"
   ]
  },
  {
   "cell_type": "code",
   "execution_count": null,
   "metadata": {},
   "outputs": [],
   "source": [
    "Df = Df.dropna(axis=1, how='all')\n",
    "display(Df)"
   ]
  },
  {
   "cell_type": "markdown",
   "metadata": {},
   "source": [
    "definition of the connection string of the DB"
   ]
  },
  {
   "cell_type": "code",
   "execution_count": 1,
   "metadata": {},
   "outputs": [],
   "source": [
    "def get_connection_string():\n",
    "    \"\"\"Crea una stringa di connessione.\"\"\"\n",
    "    return f\"postgresql://{os.getenv('user')}:{os.getenv('password')}@{os.getenv('host')}:{os.getenv('port')}/{os.getenv('database')}\""
   ]
  },
  {
   "cell_type": "code",
   "execution_count": 56,
   "metadata": {},
   "outputs": [
    {
     "data": {
      "text/plain": [
       "80"
      ]
     },
     "execution_count": 56,
     "metadata": {},
     "output_type": "execute_result"
    }
   ],
   "source": [
    "Df.to_sql(tableName, get_connection_string(), if_exists='replace', index=False)"
   ]
  }
 ],
 "metadata": {
  "kernelspec": {
   "display_name": "Python 3",
   "language": "python",
   "name": "python3"
  },
  "language_info": {
   "codemirror_mode": {
    "name": "ipython",
    "version": 3
   },
   "file_extension": ".py",
   "mimetype": "text/x-python",
   "name": "python",
   "nbconvert_exporter": "python",
   "pygments_lexer": "ipython3",
   "version": "3.12.5"
  }
 },
 "nbformat": 4,
 "nbformat_minor": 2
}
